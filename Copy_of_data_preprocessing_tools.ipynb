{
  "nbformat": 4,
  "nbformat_minor": 0,
  "metadata": {
    "colab": {
      "name": "Copy of data_preprocessing_tools.ipynb",
      "provenance": [],
      "collapsed_sections": [],
      "toc_visible": true
    },
    "kernelspec": {
      "name": "python3",
      "display_name": "Python 3"
    }
  },
  "cells": [
    {
      "cell_type": "markdown",
      "metadata": {
        "id": "37puETfgRzzg",
        "colab_type": "text"
      },
      "source": [
        "# Data Preprocessing Tools"
      ]
    },
    {
      "cell_type": "markdown",
      "metadata": {
        "id": "EoRP98MpR-qj",
        "colab_type": "text"
      },
      "source": [
        "## Importing the libraries"
      ]
    },
    {
      "cell_type": "code",
      "metadata": {
        "id": "eimFvCepCH6k",
        "colab_type": "code",
        "colab": {}
      },
      "source": [
        "import pandas as pd\n",
        "import numpy as np\n",
        "import matplotlib.pyplot as plt"
      ],
      "execution_count": 1,
      "outputs": []
    },
    {
      "cell_type": "markdown",
      "metadata": {
        "id": "RopL7tUZSQkT",
        "colab_type": "text"
      },
      "source": [
        "## Importing the dataset"
      ]
    },
    {
      "cell_type": "code",
      "metadata": {
        "id": "8PErIhQyCcbN",
        "colab_type": "code",
        "colab": {}
      },
      "source": [
        "path = r'/content/Data.csv'\n",
        "data_set = pd.read_csv(path)\n",
        "X=data_set.iloc[:,:-1]   #X=data_set.iloc[:,:-1] #type data frame if .values added it becomes nd.array\n",
        "Y=data_set.iloc[:,-1]    #Y=data_set.iloc[:,-1] "
      ],
      "execution_count": 48,
      "outputs": []
    },
    {
      "cell_type": "code",
      "metadata": {
        "id": "I9gSxaKxE4Zu",
        "colab_type": "code",
        "colab": {
          "base_uri": "https://localhost:8080/",
          "height": 34
        },
        "outputId": "86f99a67-f206-4889-8b01-72b9ab64bdb8"
      },
      "source": [
        "print(type(X))"
      ],
      "execution_count": 49,
      "outputs": [
        {
          "output_type": "stream",
          "text": [
            "<class 'pandas.core.frame.DataFrame'>\n"
          ],
          "name": "stdout"
        }
      ]
    },
    {
      "cell_type": "code",
      "metadata": {
        "id": "864lIdX_E9_G",
        "colab_type": "code",
        "colab": {
          "base_uri": "https://localhost:8080/",
          "height": 204
        },
        "outputId": "8ebea484-7226-4c04-ccb5-bd9f1b447707"
      },
      "source": [
        "print(Y)"
      ],
      "execution_count": 50,
      "outputs": [
        {
          "output_type": "stream",
          "text": [
            "0     No\n",
            "1    Yes\n",
            "2     No\n",
            "3     No\n",
            "4    Yes\n",
            "5    Yes\n",
            "6     No\n",
            "7    Yes\n",
            "8     No\n",
            "9    Yes\n",
            "Name: Purchased, dtype: object\n"
          ],
          "name": "stdout"
        }
      ]
    },
    {
      "cell_type": "markdown",
      "metadata": {
        "id": "nhfKXNxlSabC",
        "colab_type": "text"
      },
      "source": [
        "## Taking care of missing data"
      ]
    },
    {
      "cell_type": "code",
      "metadata": {
        "id": "J7ouS-FmFgNO",
        "colab_type": "code",
        "colab": {
          "base_uri": "https://localhost:8080/",
          "height": 204
        },
        "outputId": "e59069e0-a5be-46d8-cce2-bda7577c4009"
      },
      "source": [
        "from sklearn.impute import SimpleImputer\n",
        "imputer = SimpleImputer(missing_values=np.nan,strategy = 'mean')   \n",
        "imputer.fit(X.iloc[:,1:])                                          #finds mean and missing values\n",
        "X.iloc[:,1:] = imputer.transform(X.iloc[:,1:])                     #replace the missing values with the average of the salary\n",
        "print(data_set)\n",
        "\n",
        "#a=data_set.fillna(data_set.median(), inplace=True)                #to replce missing values with median\n",
        "#data_set.isnull().sum()                                           #no of missing values\n",
        "#num_missing = (dataset[[1,2,3,4,5]] == 0).sum()                   # 1,2,3,4,5 are column names\n",
        "#dataset[[1,2,3,4,5]] = dataset[[1,2,3,4,5]].replace(0, nan)       #replace '0' values with 'nan' \n",
        "#dataset.dropna(inplace=True)                                      #drop rows with missing values \n",
        "#dataset.fillna(dataset.mean(), inplace=True)                      #filling missing values\n",
        "#a=data_set.dropna(inplace=False).copy()                           #this is to drop missing rows\n",
        "#a=data_set['Age'].fillna(data_set['Age'].median()).copy()         #this is to fill the missing values\n"
      ],
      "execution_count": 51,
      "outputs": [
        {
          "output_type": "stream",
          "text": [
            "   Country   Age   Salary Purchased\n",
            "0   France  44.0  72000.0        No\n",
            "1    Spain  27.0  48000.0       Yes\n",
            "2  Germany  30.0  54000.0        No\n",
            "3    Spain  38.0  61000.0        No\n",
            "4  Germany  40.0  61000.0       Yes\n",
            "5   France  35.0  58000.0       Yes\n",
            "6    Spain  38.0  52000.0        No\n",
            "7   France  48.0  79000.0       Yes\n",
            "8  Germany  50.0  83000.0        No\n",
            "9   France  37.0  67000.0       Yes\n"
          ],
          "name": "stdout"
        }
      ]
    },
    {
      "cell_type": "code",
      "metadata": {
        "id": "tG525m2_qIv8",
        "colab_type": "code",
        "colab": {
          "base_uri": "https://localhost:8080/",
          "height": 34
        },
        "outputId": "7c59c1f1-0b11-4e14-e037-1a41e6beda04"
      },
      "source": [
        "print(a)"
      ],
      "execution_count": 43,
      "outputs": [
        {
          "output_type": "stream",
          "text": [
            "None\n"
          ],
          "name": "stdout"
        }
      ]
    },
    {
      "cell_type": "markdown",
      "metadata": {
        "id": "CriG6VzVSjcK",
        "colab_type": "text"
      },
      "source": [
        "## Encoding categorical data"
      ]
    },
    {
      "cell_type": "markdown",
      "metadata": {
        "id": "AhSpdQWeSsFh",
        "colab_type": "text"
      },
      "source": [
        "### Encoding the Independent Variable"
      ]
    },
    {
      "cell_type": "code",
      "metadata": {
        "id": "LoCPISXuc2RD",
        "colab_type": "code",
        "colab": {
          "base_uri": "https://localhost:8080/",
          "height": 187
        },
        "outputId": "04feec97-56b6-40c3-a62b-16943b5eaf4d"
      },
      "source": [
        "from sklearn.compose import ColumnTransformer\n",
        "from sklearn.preprocessing import OneHotEncoder\n",
        "# transformers = [(encoding,which type, to which column)] | remaider is used for whether to keeo pr drop the other columns which are not transformed.\n",
        "ct = ColumnTransformer(transformers=[('encoders',OneHotEncoder(),[0])],remainder='passthrough') \n",
        "X=np.array(ct.fit_transform(X))  #Fit transform won't repeat the output as numpy array\n",
        "np.set_printoptions(formatter={'float': '{: 0.3f}'.format})\n",
        "print(X)"
      ],
      "execution_count": null,
      "outputs": [
        {
          "output_type": "stream",
          "text": [
            "[[ 1.000  0.000  0.000  44.000  72000.000]\n",
            " [ 0.000  0.000  1.000  27.000  48000.000]\n",
            " [ 0.000  1.000  0.000  30.000  54000.000]\n",
            " [ 0.000  0.000  1.000  38.000  61000.000]\n",
            " [ 0.000  1.000  0.000  40.000  63777.778]\n",
            " [ 1.000  0.000  0.000  35.000  58000.000]\n",
            " [ 0.000  0.000  1.000  38.778  52000.000]\n",
            " [ 1.000  0.000  0.000  48.000  79000.000]\n",
            " [ 0.000  1.000  0.000  50.000  83000.000]\n",
            " [ 1.000  0.000  0.000  37.000  67000.000]]\n"
          ],
          "name": "stdout"
        }
      ]
    },
    {
      "cell_type": "markdown",
      "metadata": {
        "id": "DXh8oVSITIc6",
        "colab_type": "text"
      },
      "source": [
        "### Encoding the Dependent Variable"
      ]
    },
    {
      "cell_type": "code",
      "metadata": {
        "id": "BM1FTn9Iz91r",
        "colab_type": "code",
        "colab": {}
      },
      "source": [
        "#Label encoders create 0 and 1 using yes and no's easily\n",
        "from sklearn.preprocessing import LabelEncoder\n",
        "le = LabelEncoder() #no need of extra parameters as we are using only 1 column\n",
        "y = le.fit_transform(Y) #dependent variable need not be in array form"
      ],
      "execution_count": null,
      "outputs": []
    },
    {
      "cell_type": "code",
      "metadata": {
        "id": "o0WbB_EH08ou",
        "colab_type": "code",
        "colab": {
          "base_uri": "https://localhost:8080/",
          "height": 34
        },
        "outputId": "eaf59dde-daaa-46b6-e918-d2de76f56fa1"
      },
      "source": [
        "print(y)"
      ],
      "execution_count": null,
      "outputs": [
        {
          "output_type": "stream",
          "text": [
            "[0 1 0 0 1 1 0 1 0 1]\n"
          ],
          "name": "stdout"
        }
      ]
    },
    {
      "cell_type": "markdown",
      "metadata": {
        "id": "qb_vcgm3qZKW",
        "colab_type": "text"
      },
      "source": [
        "## Splitting the dataset into the Training set and Test set"
      ]
    },
    {
      "cell_type": "code",
      "metadata": {
        "id": "BzepJNzd5JPO",
        "colab_type": "code",
        "colab": {}
      },
      "source": [
        "from sklearn.model_selection import train_test_split\n",
        "xtrain,xtest,ytrain,ytest = train_test_split(X,y,test_size=0.2,random_state=1)"
      ],
      "execution_count": null,
      "outputs": []
    },
    {
      "cell_type": "code",
      "metadata": {
        "id": "TKs6PGlv5r-N",
        "colab_type": "code",
        "colab": {
          "base_uri": "https://localhost:8080/",
          "height": 153
        },
        "outputId": "7744111c-fb84-4f3c-d554-0a8dc37a8e89"
      },
      "source": [
        "print(xtrain)"
      ],
      "execution_count": null,
      "outputs": [
        {
          "output_type": "stream",
          "text": [
            "[[ 0.000  0.000  1.000  38.778  52000.000]\n",
            " [ 0.000  1.000  0.000  40.000  63777.778]\n",
            " [ 1.000  0.000  0.000  44.000  72000.000]\n",
            " [ 0.000  0.000  1.000  38.000  61000.000]\n",
            " [ 0.000  0.000  1.000  27.000  48000.000]\n",
            " [ 1.000  0.000  0.000  48.000  79000.000]\n",
            " [ 0.000  1.000  0.000  50.000  83000.000]\n",
            " [ 1.000  0.000  0.000  35.000  58000.000]]\n"
          ],
          "name": "stdout"
        }
      ]
    },
    {
      "cell_type": "code",
      "metadata": {
        "id": "UbFq6hPt5vZL",
        "colab_type": "code",
        "colab": {
          "base_uri": "https://localhost:8080/",
          "height": 51
        },
        "outputId": "de1aac92-12fe-4f12-c868-35485256d0ed"
      },
      "source": [
        "print(xtest)"
      ],
      "execution_count": null,
      "outputs": [
        {
          "output_type": "stream",
          "text": [
            "[[ 0.000  1.000  0.000  30.000  54000.000]\n",
            " [ 1.000  0.000  0.000  37.000  67000.000]]\n"
          ],
          "name": "stdout"
        }
      ]
    },
    {
      "cell_type": "markdown",
      "metadata": {
        "id": "TpGqbS4TqkIR",
        "colab_type": "text"
      },
      "source": [
        "## Feature Scaling"
      ]
    },
    {
      "cell_type": "code",
      "metadata": {
        "id": "bw6JjQyA5yM3",
        "colab_type": "code",
        "colab": {}
      },
      "source": [
        "#should not feature scale before splitting as we are supposed to have new xtest values which we dont know so we cannot apply to whole data. they should be done differently\n",
        "from sklearn.preprocessing import StandardScaler\n",
        "sc=StandardScaler()\n",
        "xtrain[:,3:] = sc.fit_transform(xtrain[:,3:]) #uses mean and standard deviation\n",
        "xtest[:,3:] = sc.transform(xtest[:,3:])       #here we are using transform not fit_transform because for thenew x values we wont have the mean and standard deviation. we will use the mean and standard deviation from the xtrain intsel"
      ],
      "execution_count": null,
      "outputs": []
    },
    {
      "cell_type": "code",
      "metadata": {
        "id": "lkucPz666fco",
        "colab_type": "code",
        "colab": {
          "base_uri": "https://localhost:8080/",
          "height": 153
        },
        "outputId": "41298e5c-a905-4f8c-8b6f-dbd4d384d9af"
      },
      "source": [
        "print(xtrain)"
      ],
      "execution_count": null,
      "outputs": [
        {
          "output_type": "stream",
          "text": [
            "[[ 0.000  0.000  1.000 -0.192 -1.078]\n",
            " [ 0.000  1.000  0.000 -0.014 -0.070]\n",
            " [ 1.000  0.000  0.000  0.567  0.634]\n",
            " [ 0.000  0.000  1.000 -0.305 -0.308]\n",
            " [ 0.000  0.000  1.000 -1.902 -1.420]\n",
            " [ 1.000  0.000  0.000  1.148  1.233]\n",
            " [ 0.000  1.000  0.000  1.438  1.575]\n",
            " [ 1.000  0.000  0.000 -0.740 -0.565]]\n"
          ],
          "name": "stdout"
        }
      ]
    },
    {
      "cell_type": "code",
      "metadata": {
        "id": "KTlofwJz6idC",
        "colab_type": "code",
        "colab": {
          "base_uri": "https://localhost:8080/",
          "height": 51
        },
        "outputId": "4f7c779e-1bda-417f-d3bf-8265d605d5f0"
      },
      "source": [
        "print(xtest)"
      ],
      "execution_count": null,
      "outputs": [
        {
          "output_type": "stream",
          "text": [
            "[[ 0.000  1.000  0.000 -1.000 -1.000]\n",
            " [ 1.000  0.000  0.000  1.000  1.000]]\n"
          ],
          "name": "stdout"
        }
      ]
    },
    {
      "cell_type": "code",
      "metadata": {
        "id": "U1TxTW_n6mT7",
        "colab_type": "code",
        "colab": {}
      },
      "source": [
        ""
      ],
      "execution_count": null,
      "outputs": []
    }
  ]
}